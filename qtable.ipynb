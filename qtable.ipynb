{
 "cells": [
  {
   "cell_type": "code",
   "execution_count": null,
   "metadata": {},
   "outputs": [],
   "source": [
    "%pip install gym==0.25.0"
   ]
  },
  {
   "cell_type": "code",
   "execution_count": null,
   "metadata": {},
   "outputs": [],
   "source": [
    "import gym\n",
    "import numpy as np\n",
    "import random\n",
    "import note_exploration\n",
    "from midi_tm import *"
   ]
  },
  {
   "cell_type": "code",
   "execution_count": null,
   "metadata": {},
   "outputs": [],
   "source": [
    "# select the required environment version\n",
    "env_name = \"note_exploration/NoteWorld-v0\""
   ]
  },
  {
   "cell_type": "code",
   "execution_count": null,
   "metadata": {},
   "outputs": [],
   "source": [
    "# create note exploration environment\n",
    "env = gym.make('note_exploration/NoteWorld-v0', size=128, reward_mode=\"oscillate\", render_mode=\"text\")"
   ]
  },
  {
   "cell_type": "code",
   "execution_count": null,
   "metadata": {},
   "outputs": [],
   "source": [
    "random_q_table = False\n",
    "\n",
    "# initialize q-table\n",
    "state_size = env.size\n",
    "action_size = env.get_action_size()"
   ]
  },
  {
   "cell_type": "markdown",
   "metadata": {},
   "source": []
  },
  {
   "cell_type": "code",
   "execution_count": null,
   "metadata": {},
   "outputs": [],
   "source": [
    "# hyperparameters\n",
    "# learning_rate = 0.9\n",
    "# discount_rate = 0.8\n",
    "learning_rate = 0.3\n",
    "discount_rate = 0.2\n",
    "epsilon = 1.0\n",
    "# decay_rate= 0.005\n",
    "decay_rate= 0.001\n",
    "\n",
    "# training variables\n",
    "num_episodes = 1000\n",
    "max_steps = 99 # per episode"
   ]
  },
  {
   "cell_type": "markdown",
   "metadata": {},
   "source": [
    "Run the agent training:"
   ]
  },
  {
   "cell_type": "code",
   "execution_count": null,
   "metadata": {},
   "outputs": [],
   "source": [
    "if random_q_table: # just fill the q-table with random values\n",
    "\n",
    "    qtable = np.random.rand(state_size, action_size)\n",
    "\n",
    "else: # perform some training\n",
    "\n",
    "    qtable = np.zeros((state_size, action_size))\n",
    "\n",
    "    for episode in range(num_episodes):\n",
    "\n",
    "        if episode % 100 == 0:\n",
    "            print(\"episode\", episode)\n",
    "\n",
    "        # reset the environment\n",
    "        state = env.reset()\n",
    "        note_observation = state['note'][0]\n",
    "        done = False\n",
    "\n",
    "        for s in range(max_steps):\n",
    "\n",
    "            # exploration-exploitation tradeoff\n",
    "            if random.uniform(0,1) < epsilon:\n",
    "                # explore\n",
    "                action = round(env.action_space.sample()[0])\n",
    "                # print(\"exploration action\", action)\n",
    "            else:\n",
    "                # exploit\n",
    "                action = np.argmax(qtable[note_observation,:])\n",
    "                # print(\"exploit action\", action)\n",
    "\n",
    "            # take action and observe reward\n",
    "            new_state, reward, done, info = env.step(action)\n",
    "            new_note_observation = new_state['note'][0]\n",
    "\n",
    "            # print(\"new_state, reward, info\", new_state, reward, info)\n",
    "\n",
    "            # Q-learning algorithm\n",
    "            qtable[note_observation,action] = qtable[note_observation,action] + learning_rate * (reward + discount_rate * np.max(qtable[new_note_observation,:])-qtable[note_observation,action])\n",
    "\n",
    "            # print(\"qtable\", qtable)\n",
    "\n",
    "            # Update to our new state\n",
    "            state = new_state\n",
    "\n",
    "        # Decrease epsilon\n",
    "        epsilon = np.exp(-decay_rate*episode)\n",
    "\n",
    "print(f\"Training completed over {num_episodes} episodes\")"
   ]
  },
  {
   "cell_type": "markdown",
   "metadata": {},
   "source": [
    "Watch trained agent"
   ]
  },
  {
   "cell_type": "code",
   "execution_count": null,
   "metadata": {},
   "outputs": [],
   "source": [
    "# watch trained agent\n",
    "state = env.reset()['note'][0]\n",
    "\n",
    "env.set_render_mode(\"text\")\n",
    "\n",
    "done = False\n",
    "rewards = 0\n",
    "\n",
    "for s in range(max_steps):\n",
    "\n",
    "    print(f\"TRAINED AGENT\")\n",
    "    print(\"Step {}\".format(s+1))\n",
    "\n",
    "    action = np.argmax(qtable[state,:])\n",
    "    print(\"action:\", action)\n",
    "    new_state, reward, done, info = env.step(action)\n",
    "    rewards += reward\n",
    "    env.render(\"text\", action, reward)\n",
    "    print(f\"score: {rewards}\")\n",
    "    state = new_state['note'][0]\n",
    "\n",
    "    if done == True:\n",
    "        break\n",
    "\n",
    "env.close()"
   ]
  }
 ],
 "metadata": {
  "kernelspec": {
   "display_name": "Python 3.8.9 ('.env': venv)",
   "language": "python",
   "name": "python3"
  },
  "language_info": {
   "codemirror_mode": {
    "name": "ipython",
    "version": 3
   },
   "file_extension": ".py",
   "mimetype": "text/x-python",
   "name": "python",
   "nbconvert_exporter": "python",
   "pygments_lexer": "ipython3",
   "version": "3.8.9"
  },
  "orig_nbformat": 4,
  "vscode": {
   "interpreter": {
    "hash": "6e01924726bbb0f6195017750ed1eebd79bfb0a2107bb8d018114fc13ce1d8f7"
   }
  }
 },
 "nbformat": 4,
 "nbformat_minor": 2
}
